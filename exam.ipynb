{
 "cells": [
  {
   "cell_type": "code",
   "execution_count": 2,
   "id": "3c042d2a-2d28-4966-a258-611836dec1f8",
   "metadata": {},
   "outputs": [],
   "source": [
    "import re\n",
    "from collections import Counter\n",
    "\n",
    "# Data extracted from the HTML table (copied directly)\n",
    "data = {\n",
    "    \"MONDAY\": \"GREEN, YELLOW, GREEN, BROWN, BLUE, PINK, BLUE, YELLOW, ORANGE, CREAM, ORANGE, RED, WHITE, BLUE, WHITE, BLUE, BLUE, BLUE, GREEN\",\n",
    "    \"TUESDAY\": \"ARSH, BROWN, GREEN, BROWN, BLUE, BLUE, BLEW, PINK, PINK, ORANGE, ORANGE, RED, WHITE, BLUE, WHITE, WHITE, BLUE, BLUE, BLUE\",\n",
    "    \"WEDNESDAY\": \"GREEN, YELLOW, GREEN, BROWN, BLUE, PINK, RED, YELLOW, ORANGE, RED, ORANGE, RED, BLUE, BLUE, WHITE, BLUE, BLUE, WHITE, WHITE\",\n",
    "    \"THURSDAY\": \"BLUE, BLUE, GREEN, WHITE, BLUE, BROWN, PINK, YELLOW, ORANGE, CREAM, ORANGE, RED, WHITE, BLUE, WHITE, BLUE, BLUE, BLUE, GREEN\",\n",
    "    \"FRIDAY\": \"GREEN, WHITE, GREEN, BROWN, BLUE, BLUE, BLACK, WHITE, ORANGE, RED, RED, RED, WHITE, BLUE, WHITE, BLUE, BLUE, BLUE, WHITE\"\n",
    "}\n"
   ]
  },
  {
   "cell_type": "code",
   "execution_count": 4,
   "id": "bbc6ecb6-bf74-4b82-9c2c-08338be0eac4",
   "metadata": {},
   "outputs": [
    {
     "name": "stdout",
     "output_type": "stream",
     "text": [
      "['GREEN', 'YELLOW', 'GREEN', 'BROWN', 'BLUE', 'PINK', 'BLUE', 'YELLOW', 'ORANGE', 'CREAM', 'ORANGE', 'RED', 'WHITE', 'BLUE', 'WHITE', 'BLUE', 'BLUE', 'BLUE', 'GREEN', 'ARSH', 'BROWN', 'GREEN', 'BROWN', 'BLUE', 'BLUE', 'BLEW', 'PINK', 'PINK', 'ORANGE', 'ORANGE', 'RED', 'WHITE', 'BLUE', 'WHITE', 'WHITE', 'BLUE', 'BLUE', 'BLUE', 'GREEN', 'YELLOW', 'GREEN', 'BROWN', 'BLUE', 'PINK', 'RED', 'YELLOW', 'ORANGE', 'RED', 'ORANGE', 'RED', 'BLUE', 'BLUE', 'WHITE', 'BLUE', 'BLUE', 'WHITE', 'WHITE', 'BLUE', 'BLUE', 'GREEN', 'WHITE', 'BLUE', 'BROWN', 'PINK', 'YELLOW', 'ORANGE', 'CREAM', 'ORANGE', 'RED', 'WHITE', 'BLUE', 'WHITE', 'BLUE', 'BLUE', 'BLUE', 'GREEN', 'GREEN', 'WHITE', 'GREEN', 'BROWN', 'BLUE', 'BLUE', 'BLACK', 'WHITE', 'ORANGE', 'RED', 'RED', 'RED', 'WHITE', 'BLUE', 'WHITE', 'BLUE', 'BLUE', 'BLUE', 'WHITE']\n"
     ]
    }
   ],
   "source": [
    "colors=[]\n",
    "for day in data:\n",
    "    colors.extend(re.split(r',\\s*', data[day]))\n",
    "print(colors)\n"
   ]
  },
  {
   "cell_type": "code",
   "execution_count": null,
   "id": "c1df6373-a384-461b-8977-e625e7434b17",
   "metadata": {},
   "outputs": [],
   "source": []
  },
  {
   "cell_type": "code",
   "execution_count": 5,
   "id": "edb8f8e7-2e9e-4ade-badb-83a6ac8d85eb",
   "metadata": {},
   "outputs": [],
   "source": [
    "colors = [color.upper() for color in colors if color.upper() != 'ARSH']\n",
    "colors = ['BLUE' if color == 'BLEW' else color for color in colors]\n"
   ]
  },
  {
   "cell_type": "code",
   "execution_count": 8,
   "id": "f405efe5-1f22-4bc5-883b-98c304c851f6",
   "metadata": {},
   "outputs": [
    {
     "name": "stdout",
     "output_type": "stream",
     "text": [
      "Counter({'BLUE': 31, 'WHITE': 16, 'GREEN': 10, 'ORANGE': 9, 'RED': 9, 'BROWN': 6, 'YELLOW': 5, 'PINK': 5, 'CREAM': 2, 'BLACK': 1})\n"
     ]
    }
   ],
   "source": [
    "color_count = Counter(colors)\n",
    "print(color_count)"
   ]
  },
  {
   "cell_type": "code",
   "execution_count": 7,
   "id": "9f107775-1bc2-48dc-a805-19021ad174b4",
   "metadata": {},
   "outputs": [
    {
     "name": "stdout",
     "output_type": "stream",
     "text": [
      "Most worn color (Mode): BLUE\n"
     ]
    }
   ],
   "source": [
    "# Mode (most frequent color)\n",
    "mode_color = color_count.most_common(1)[0][0]\n",
    "print(\"Most worn color (Mode):\", mode_color)\n"
   ]
  },
  {
   "cell_type": "code",
   "execution_count": 10,
   "id": "efc00adb-1e13-41d2-a4f1-bd17a493ddb1",
   "metadata": {},
   "outputs": [
    {
     "name": "stdout",
     "output_type": "stream",
     "text": [
      "Median color: ORANGE\n"
     ]
    }
   ],
   "source": [
    "#median color\n",
    "sorted_colors = sorted(color_count.items(), key=lambda x: x[1])\n",
    "median_color = sorted_colors[len(sorted_colors) // 2][0]\n",
    "print(\"Median color:\", median_color)\n"
   ]
  },
  {
   "cell_type": "code",
   "execution_count": 11,
   "id": "f1579f63-8cd5-46df-8de6-fbda5655a67a",
   "metadata": {},
   "outputs": [
    {
     "name": "stdout",
     "output_type": "stream",
     "text": [
      "Probability of Red: 0.10\n"
     ]
    }
   ],
   "source": [
    "# Probability of red\n",
    "total_colors = sum(color_count.values())\n",
    "red_count = color_count.get('RED', 0)\n",
    "probability_of_red = red_count / total_colors\n",
    "print(f\"Probability of Red: {probability_of_red:.2f}\")"
   ]
  },
  {
   "cell_type": "code",
   "execution_count": null,
   "id": "a747abef-485f-4803-bbbf-07ac0cb924fb",
   "metadata": {},
   "outputs": [],
   "source": []
  }
 ],
 "metadata": {
  "kernelspec": {
   "display_name": "Python 3 (ipykernel)",
   "language": "python",
   "name": "python3"
  },
  "language_info": {
   "codemirror_mode": {
    "name": "ipython",
    "version": 3
   },
   "file_extension": ".py",
   "mimetype": "text/x-python",
   "name": "python",
   "nbconvert_exporter": "python",
   "pygments_lexer": "ipython3",
   "version": "3.12.2"
  }
 },
 "nbformat": 4,
 "nbformat_minor": 5
}
